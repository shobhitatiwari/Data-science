{
 "cells": [
  {
   "cell_type": "markdown",
   "metadata": {},
   "source": [
    "      # Load the dataset and add the columns Ordered product sales and Ordered product sales-B2B \n",
    "      # and convert the dateformate to Year-Month-Day\n",
    "      # Add a column Total product sales\n",
    "      # Remove any rows with total product sales as 0\n",
    "      # save the output in csv file"
   ]
  },
  {
   "cell_type": "code",
   "execution_count": 42,
   "metadata": {},
   "outputs": [],
   "source": [
    "import pandas as pd\n",
    "import numpy as np\n",
    "from datetime import datetime"
   ]
  },
  {
   "cell_type": "code",
   "execution_count": 2,
   "metadata": {},
   "outputs": [],
   "source": [
    "df = pd.read_csv(\"https://raw.githubusercontent.com/manishanker/stats_ml_jun2020/master/BusinessReport-5-15-20%20(1).csv\")"
   ]
  },
  {
   "cell_type": "code",
   "execution_count": 3,
   "metadata": {},
   "outputs": [
    {
     "data": {
      "text/html": [
       "<div>\n",
       "<style scoped>\n",
       "    .dataframe tbody tr th:only-of-type {\n",
       "        vertical-align: middle;\n",
       "    }\n",
       "\n",
       "    .dataframe tbody tr th {\n",
       "        vertical-align: top;\n",
       "    }\n",
       "\n",
       "    .dataframe thead th {\n",
       "        text-align: right;\n",
       "    }\n",
       "</style>\n",
       "<table border=\"1\" class=\"dataframe\">\n",
       "  <thead>\n",
       "    <tr style=\"text-align: right;\">\n",
       "      <th></th>\n",
       "      <th>Date</th>\n",
       "      <th>Ordered Product Sales</th>\n",
       "      <th>Ordered Product Sales - B2B</th>\n",
       "      <th>Units Ordered</th>\n",
       "      <th>Units Ordered - B2B</th>\n",
       "      <th>Total Order Items</th>\n",
       "      <th>Total Order Items - B2B</th>\n",
       "      <th>Average Sales per Order Item</th>\n",
       "      <th>Average Sales per Order Item - B2B</th>\n",
       "      <th>Average Units per Order Item</th>\n",
       "      <th>Average Units per Order Item - B2B</th>\n",
       "      <th>Average Selling Price</th>\n",
       "      <th>Average Selling Price - B2B</th>\n",
       "      <th>Sessions</th>\n",
       "      <th>Order Item Session Percentage</th>\n",
       "      <th>Order Item Session Percentage - B2B</th>\n",
       "      <th>Average Offer Count</th>\n",
       "    </tr>\n",
       "  </thead>\n",
       "  <tbody>\n",
       "    <tr>\n",
       "      <th>0</th>\n",
       "      <td>04/13/2020</td>\n",
       "      <td>$0.00</td>\n",
       "      <td>$0.00</td>\n",
       "      <td>0</td>\n",
       "      <td>0</td>\n",
       "      <td>0</td>\n",
       "      <td>0</td>\n",
       "      <td>$0.00</td>\n",
       "      <td>$0.00</td>\n",
       "      <td>0.0</td>\n",
       "      <td>0.0</td>\n",
       "      <td>$0.00</td>\n",
       "      <td>$0.00</td>\n",
       "      <td>19</td>\n",
       "      <td>0.00%</td>\n",
       "      <td>0.00%</td>\n",
       "      <td>3</td>\n",
       "    </tr>\n",
       "    <tr>\n",
       "      <th>1</th>\n",
       "      <td>04/14/2020</td>\n",
       "      <td>$12.99</td>\n",
       "      <td>$0.00</td>\n",
       "      <td>1</td>\n",
       "      <td>0</td>\n",
       "      <td>1</td>\n",
       "      <td>0</td>\n",
       "      <td>$12.99</td>\n",
       "      <td>$0.00</td>\n",
       "      <td>1.0</td>\n",
       "      <td>0.0</td>\n",
       "      <td>$12.99</td>\n",
       "      <td>$0.00</td>\n",
       "      <td>5</td>\n",
       "      <td>20.00%</td>\n",
       "      <td>0.00%</td>\n",
       "      <td>3</td>\n",
       "    </tr>\n",
       "    <tr>\n",
       "      <th>2</th>\n",
       "      <td>04/15/2020</td>\n",
       "      <td>$59.96</td>\n",
       "      <td>$0.00</td>\n",
       "      <td>4</td>\n",
       "      <td>0</td>\n",
       "      <td>4</td>\n",
       "      <td>0</td>\n",
       "      <td>$14.99</td>\n",
       "      <td>$0.00</td>\n",
       "      <td>1.0</td>\n",
       "      <td>0.0</td>\n",
       "      <td>$14.99</td>\n",
       "      <td>$0.00</td>\n",
       "      <td>63</td>\n",
       "      <td>6.35%</td>\n",
       "      <td>0.00%</td>\n",
       "      <td>3</td>\n",
       "    </tr>\n",
       "    <tr>\n",
       "      <th>3</th>\n",
       "      <td>04/16/2020</td>\n",
       "      <td>$59.96</td>\n",
       "      <td>$0.00</td>\n",
       "      <td>4</td>\n",
       "      <td>0</td>\n",
       "      <td>4</td>\n",
       "      <td>0</td>\n",
       "      <td>$14.99</td>\n",
       "      <td>$0.00</td>\n",
       "      <td>1.0</td>\n",
       "      <td>0.0</td>\n",
       "      <td>$14.99</td>\n",
       "      <td>$0.00</td>\n",
       "      <td>68</td>\n",
       "      <td>5.88%</td>\n",
       "      <td>0.00%</td>\n",
       "      <td>3</td>\n",
       "    </tr>\n",
       "    <tr>\n",
       "      <th>4</th>\n",
       "      <td>04/17/2020</td>\n",
       "      <td>$89.94</td>\n",
       "      <td>$14.99</td>\n",
       "      <td>6</td>\n",
       "      <td>1</td>\n",
       "      <td>6</td>\n",
       "      <td>1</td>\n",
       "      <td>$14.99</td>\n",
       "      <td>$14.99</td>\n",
       "      <td>1.0</td>\n",
       "      <td>1.0</td>\n",
       "      <td>$14.99</td>\n",
       "      <td>$14.99</td>\n",
       "      <td>62</td>\n",
       "      <td>9.68%</td>\n",
       "      <td>1.61%</td>\n",
       "      <td>3</td>\n",
       "    </tr>\n",
       "  </tbody>\n",
       "</table>\n",
       "</div>"
      ],
      "text/plain": [
       "         Date Ordered Product Sales Ordered Product Sales - B2B  \\\n",
       "0  04/13/2020                 $0.00                       $0.00   \n",
       "1  04/14/2020                $12.99                       $0.00   \n",
       "2  04/15/2020                $59.96                       $0.00   \n",
       "3  04/16/2020                $59.96                       $0.00   \n",
       "4  04/17/2020                $89.94                      $14.99   \n",
       "\n",
       "   Units Ordered  Units Ordered - B2B  Total Order Items  \\\n",
       "0              0                    0                  0   \n",
       "1              1                    0                  1   \n",
       "2              4                    0                  4   \n",
       "3              4                    0                  4   \n",
       "4              6                    1                  6   \n",
       "\n",
       "   Total Order Items - B2B Average Sales per Order Item  \\\n",
       "0                        0                        $0.00   \n",
       "1                        0                       $12.99   \n",
       "2                        0                       $14.99   \n",
       "3                        0                       $14.99   \n",
       "4                        1                       $14.99   \n",
       "\n",
       "  Average Sales per Order Item - B2B  Average Units per Order Item  \\\n",
       "0                              $0.00                           0.0   \n",
       "1                              $0.00                           1.0   \n",
       "2                              $0.00                           1.0   \n",
       "3                              $0.00                           1.0   \n",
       "4                             $14.99                           1.0   \n",
       "\n",
       "   Average Units per Order Item - B2B Average Selling Price  \\\n",
       "0                                 0.0                 $0.00   \n",
       "1                                 0.0                $12.99   \n",
       "2                                 0.0                $14.99   \n",
       "3                                 0.0                $14.99   \n",
       "4                                 1.0                $14.99   \n",
       "\n",
       "  Average Selling Price - B2B  Sessions Order Item Session Percentage  \\\n",
       "0                       $0.00        19                         0.00%   \n",
       "1                       $0.00         5                        20.00%   \n",
       "2                       $0.00        63                         6.35%   \n",
       "3                       $0.00        68                         5.88%   \n",
       "4                      $14.99        62                         9.68%   \n",
       "\n",
       "  Order Item Session Percentage - B2B  Average Offer Count  \n",
       "0                               0.00%                    3  \n",
       "1                               0.00%                    3  \n",
       "2                               0.00%                    3  \n",
       "3                               0.00%                    3  \n",
       "4                               1.61%                    3  "
      ]
     },
     "execution_count": 3,
     "metadata": {},
     "output_type": "execute_result"
    }
   ],
   "source": [
    "df.head()"
   ]
  },
  {
   "cell_type": "code",
   "execution_count": 27,
   "metadata": {},
   "outputs": [],
   "source": [
    "#new dataframe with only 3 required columns\n",
    "\n",
    "df_new=df[df.columns[:3]]"
   ]
  },
  {
   "cell_type": "code",
   "execution_count": 30,
   "metadata": {},
   "outputs": [
    {
     "data": {
      "text/html": [
       "<div>\n",
       "<style scoped>\n",
       "    .dataframe tbody tr th:only-of-type {\n",
       "        vertical-align: middle;\n",
       "    }\n",
       "\n",
       "    .dataframe tbody tr th {\n",
       "        vertical-align: top;\n",
       "    }\n",
       "\n",
       "    .dataframe thead th {\n",
       "        text-align: right;\n",
       "    }\n",
       "</style>\n",
       "<table border=\"1\" class=\"dataframe\">\n",
       "  <thead>\n",
       "    <tr style=\"text-align: right;\">\n",
       "      <th></th>\n",
       "      <th>Date</th>\n",
       "      <th>Ordered Product Sales</th>\n",
       "      <th>Ordered Product Sales - B2B</th>\n",
       "    </tr>\n",
       "  </thead>\n",
       "  <tbody>\n",
       "    <tr>\n",
       "      <th>0</th>\n",
       "      <td>04/13/2020</td>\n",
       "      <td>$0.00</td>\n",
       "      <td>$0.00</td>\n",
       "    </tr>\n",
       "    <tr>\n",
       "      <th>1</th>\n",
       "      <td>04/14/2020</td>\n",
       "      <td>$12.99</td>\n",
       "      <td>$0.00</td>\n",
       "    </tr>\n",
       "    <tr>\n",
       "      <th>2</th>\n",
       "      <td>04/15/2020</td>\n",
       "      <td>$59.96</td>\n",
       "      <td>$0.00</td>\n",
       "    </tr>\n",
       "    <tr>\n",
       "      <th>3</th>\n",
       "      <td>04/16/2020</td>\n",
       "      <td>$59.96</td>\n",
       "      <td>$0.00</td>\n",
       "    </tr>\n",
       "    <tr>\n",
       "      <th>4</th>\n",
       "      <td>04/17/2020</td>\n",
       "      <td>$89.94</td>\n",
       "      <td>$14.99</td>\n",
       "    </tr>\n",
       "  </tbody>\n",
       "</table>\n",
       "</div>"
      ],
      "text/plain": [
       "         Date Ordered Product Sales Ordered Product Sales - B2B\n",
       "0  04/13/2020                 $0.00                       $0.00\n",
       "1  04/14/2020                $12.99                       $0.00\n",
       "2  04/15/2020                $59.96                       $0.00\n",
       "3  04/16/2020                $59.96                       $0.00\n",
       "4  04/17/2020                $89.94                      $14.99"
      ]
     },
     "execution_count": 30,
     "metadata": {},
     "output_type": "execute_result"
    }
   ],
   "source": [
    "df_new.head()"
   ]
  },
  {
   "cell_type": "code",
   "execution_count": 29,
   "metadata": {},
   "outputs": [],
   "source": [
    "#Step1: Function to get rid of '$' in columns:\n",
    "\n",
    "def money_to_float_conversion(money_str):\n",
    "    \"\"\"\n",
    "        Function to take a string and replace $ with space\n",
    "    \"\"\"\n",
    "    return float(money_str.replace(\"$\",\"\"))"
   ]
  },
  {
   "cell_type": "code",
   "execution_count": 63,
   "metadata": {},
   "outputs": [],
   "source": [
    "#Step2: Function to chhange date format\n",
    "\n",
    "#pd.to_datetime(df.Date)\n",
    "\n",
    "def convert_date_format(date_str):\n",
    "     \"\"\"\n",
    "        Function to take a date format from 04/28/2020 to 2020-04-28\n",
    "    \"\"\"\n",
    "    return datetime.strptime(date_str, '%m/%d/%Y').strftime('%Y-%m-%d')"
   ]
  },
  {
   "cell_type": "code",
   "execution_count": 67,
   "metadata": {},
   "outputs": [],
   "source": [
    "#create a new dataframe, so as to keep origonal df intact\n",
    "df_new1=df_new.copy()"
   ]
  },
  {
   "cell_type": "code",
   "execution_count": 69,
   "metadata": {},
   "outputs": [],
   "source": [
    "df_new1['Ordered Product Sales']=df_new['Ordered Product Sales'].apply(money_to_float_conversion)\n",
    "df_new1['Ordered Product Sales - B2B']=df_new['Ordered Product Sales - B2B'].apply(money_to_float_conversion)"
   ]
  },
  {
   "cell_type": "code",
   "execution_count": 71,
   "metadata": {},
   "outputs": [],
   "source": [
    "df_new1['Date']=df_new['Date'].apply(convert_date_format)"
   ]
  },
  {
   "cell_type": "code",
   "execution_count": 84,
   "metadata": {},
   "outputs": [],
   "source": [
    "#Step3\n",
    "df_new1['Total Product Sales']=df_new1['Ordered Product Sales']+df_new1['Ordered Product Sales - B2B']"
   ]
  },
  {
   "cell_type": "code",
   "execution_count": 86,
   "metadata": {},
   "outputs": [],
   "source": [
    "#Create a dummy column \"Total Product Sales\" text\n",
    "df_new1['Total Sales Column']=\"Total Product Sales\""
   ]
  },
  {
   "cell_type": "code",
   "execution_count": 93,
   "metadata": {},
   "outputs": [],
   "source": [
    "#Step4\n",
    "df_final=df_new1[df_new1['Total Product Sales']>0]"
   ]
  },
  {
   "cell_type": "code",
   "execution_count": 96,
   "metadata": {},
   "outputs": [],
   "source": [
    "columns_order=['Total Sales Column', 'Date','Total Product Sales']\n",
    "df_final=df_new1[columns_order]"
   ]
  },
  {
   "cell_type": "code",
   "execution_count": 101,
   "metadata": {},
   "outputs": [],
   "source": [
    "#Step5\n",
    "df_final.to_csv('Final_csv', index=False)"
   ]
  }
 ],
 "metadata": {
  "kernelspec": {
   "display_name": "Python 3",
   "language": "python",
   "name": "python3"
  },
  "language_info": {
   "codemirror_mode": {
    "name": "ipython",
    "version": 3
   },
   "file_extension": ".py",
   "mimetype": "text/x-python",
   "name": "python",
   "nbconvert_exporter": "python",
   "pygments_lexer": "ipython3",
   "version": "3.7.6"
  }
 },
 "nbformat": 4,
 "nbformat_minor": 4
}
