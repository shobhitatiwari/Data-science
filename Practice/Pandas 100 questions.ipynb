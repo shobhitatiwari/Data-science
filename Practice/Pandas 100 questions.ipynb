{
 "cells": [
  {
   "cell_type": "code",
   "execution_count": 22,
   "metadata": {},
   "outputs": [
    {
     "name": "stdout",
     "output_type": "stream",
     "text": [
      "1.0.1\n",
      "{'system': {'commit': None, 'python': '3.7.6.final.0', 'python-bits': 64, 'OS': 'Windows', 'OS-release': '10', 'machine': 'AMD64', 'processor': 'Intel64 Family 6 Model 142 Stepping 12, GenuineIntel', 'byteorder': 'little', 'LC_ALL': 'None', 'LANG': 'None', 'LOCALE': 'None.None'}, 'dependencies': {'pandas': '1.0.1', 'numpy': '1.18.1', 'pytz': '2019.3', 'dateutil': '2.8.1', 'pip': '20.0.2', 'setuptools': '45.2.0.post20200210', 'Cython': '0.29.15', 'pytest': '5.3.5', 'hypothesis': '5.5.4', 'sphinx': '2.4.0', 'blosc': None, 'feather': None, 'xlsxwriter': '1.2.7', 'lxml.etree': '4.5.0', 'html5lib': '1.0.1', 'pymysql': None, 'psycopg2': None, 'jinja2': '2.11.1', 'IPython': '7.12.0', 'pandas_datareader': None, 'bs4': '4.8.2', 'bottleneck': '1.3.2', 'fastparquet': None, 'gcsfs': None, 'matplotlib': '3.1.3', 'numexpr': '2.7.1', 'odfpy': None, 'openpyxl': '3.0.3', 'pandas_gbq': None, 'pyarrow': None, 'pytables': None, 'pyxlsb': None, 's3fs': None, 'scipy': '1.4.1', 'sqlalchemy': '1.3.13', 'tables': '3.6.1', 'tabulate': None, 'xarray': None, 'xlrd': '1.2.0', 'xlwt': '1.3.0', 'numba': '0.48.0'}}\n",
      "None\n"
     ]
    }
   ],
   "source": [
    "#Q1 import pandas and check the version?\n",
    "\n",
    "import numpy as np\n",
    "import pandas as pd\n",
    "\n",
    "print(pd.__version__)\n",
    "print(pd.show_versions(as_json=True))"
   ]
  },
  {
   "cell_type": "code",
   "execution_count": 34,
   "metadata": {},
   "outputs": [
    {
     "name": "stdout",
     "output_type": "stream",
     "text": [
      "0    a\n",
      "1    b\n",
      "2    c\n",
      "3    d\n",
      "4    e\n",
      "dtype: object\n",
      "0    0\n",
      "1    1\n",
      "2    2\n",
      "3    3\n",
      "4    4\n",
      "dtype: int32\n"
     ]
    }
   ],
   "source": [
    "#Q2 create a series from a list, numpy array and dict?\n",
    "\n",
    "lst=list('abcde')\n",
    "arr=np.arange(5)\n",
    "\n",
    "#mydict = dict(zip(lst, arr))\n",
    "\n",
    "\n",
    "print(pd.Series(lst))\n",
    "print(pd.Series(arr))\n",
    "#pd.Series(dict(zip(lst, arr)))"
   ]
  },
  {
   "cell_type": "code",
   "execution_count": 48,
   "metadata": {},
   "outputs": [
    {
     "data": {
      "text/html": [
       "<div>\n",
       "<style scoped>\n",
       "    .dataframe tbody tr th:only-of-type {\n",
       "        vertical-align: middle;\n",
       "    }\n",
       "\n",
       "    .dataframe tbody tr th {\n",
       "        vertical-align: top;\n",
       "    }\n",
       "\n",
       "    .dataframe thead th {\n",
       "        text-align: right;\n",
       "    }\n",
       "</style>\n",
       "<table border=\"1\" class=\"dataframe\">\n",
       "  <thead>\n",
       "    <tr style=\"text-align: right;\">\n",
       "      <th></th>\n",
       "      <th>sno</th>\n",
       "      <th>0</th>\n",
       "    </tr>\n",
       "  </thead>\n",
       "  <tbody>\n",
       "    <tr>\n",
       "      <th>0</th>\n",
       "      <td>0</td>\n",
       "      <td>a</td>\n",
       "    </tr>\n",
       "    <tr>\n",
       "      <th>1</th>\n",
       "      <td>1</td>\n",
       "      <td>b</td>\n",
       "    </tr>\n",
       "    <tr>\n",
       "      <th>2</th>\n",
       "      <td>2</td>\n",
       "      <td>c</td>\n",
       "    </tr>\n",
       "    <tr>\n",
       "      <th>3</th>\n",
       "      <td>3</td>\n",
       "      <td>e</td>\n",
       "    </tr>\n",
       "    <tr>\n",
       "      <th>4</th>\n",
       "      <td>4</td>\n",
       "      <td>d</td>\n",
       "    </tr>\n",
       "    <tr>\n",
       "      <th>5</th>\n",
       "      <td>5</td>\n",
       "      <td>f</td>\n",
       "    </tr>\n",
       "  </tbody>\n",
       "</table>\n",
       "</div>"
      ],
      "text/plain": [
       "   sno  0\n",
       "0    0  a\n",
       "1    1  b\n",
       "2    2  c\n",
       "3    3  e\n",
       "4    4  d\n",
       "5    5  f"
      ]
     },
     "execution_count": 48,
     "metadata": {},
     "output_type": "execute_result"
    }
   ],
   "source": [
    "#Q3 convert the index of a series into a column of a dataframe?\n",
    "\n",
    "mylist = list('abcedf')\n",
    "ser = pd.Series(mylist)\n",
    "\n",
    "ser.to_frame().reset_index().rename({'index':'sno'}, axis=1)\n"
   ]
  },
  {
   "cell_type": "code",
   "execution_count": 59,
   "metadata": {},
   "outputs": [
    {
     "name": "stdout",
     "output_type": "stream",
     "text": [
      "   0  1\n",
      "0  a  2\n",
      "1  b  1\n",
      "2  c  3\n",
      "3  d  9\n",
      "4  e  2\n",
      "5  f  6\n",
      "  col1  col2\n",
      "0    a     2\n",
      "1    b     1\n",
      "2    c     3\n",
      "3    d     9\n",
      "4    e     2\n",
      "5    f     6\n"
     ]
    }
   ],
   "source": [
    "#Q4 combine many series to form a dataframe?\n",
    "\n",
    "ser1=pd.Series(list('abcdef'))\n",
    "ser2=pd.Series(np.random.randint(0,10,6))\n",
    "\n",
    "comb1=pd.concat([ser1, ser2], axis=1) #method1\n",
    "print(comb1) \n",
    "comb2=pd.concat({'col1':ser1,'col2':ser2}, axis=1) #method2\n",
    "print(comb2)"
   ]
  },
  {
   "cell_type": "code",
   "execution_count": 61,
   "metadata": {},
   "outputs": [
    {
     "data": {
      "text/plain": [
       "0    a\n",
       "1    b\n",
       "2    c\n",
       "3    d\n",
       "4    e\n",
       "5    f\n",
       "Name: alpha, dtype: object"
      ]
     },
     "execution_count": 61,
     "metadata": {},
     "output_type": "execute_result"
    }
   ],
   "source": [
    "#Q5 assign name to the series’ index?\n",
    "\n",
    "ser1.name='alpha'\n",
    "ser1"
   ]
  },
  {
   "cell_type": "code",
   "execution_count": 68,
   "metadata": {},
   "outputs": [
    {
     "data": {
      "text/plain": [
       "5    5\n",
       "6    6\n",
       "7    7\n",
       "dtype: int32"
      ]
     },
     "execution_count": 68,
     "metadata": {},
     "output_type": "execute_result"
    }
   ],
   "source": [
    "#Q6.get the items of series A not present in series B?\n",
    "\n",
    "ser1=pd.Series(np.arange(5))\n",
    "ser1\n",
    "ser2=pd.Series(np.arange(8))\n",
    "ser2\n",
    "\n",
    "#findind ser2 elements not in ser1\n",
    "\n",
    "ser2[~ser2.isin(ser1)]"
   ]
  },
  {
   "cell_type": "code",
   "execution_count": 77,
   "metadata": {},
   "outputs": [
    {
     "name": "stdout",
     "output_type": "stream",
     "text": [
      "0    1\n",
      "1    2\n",
      "2    3\n",
      "3    4\n",
      "4    5\n",
      "dtype: int32\n",
      "0    3\n",
      "1    4\n",
      "2    5\n",
      "3    6\n",
      "4    7\n",
      "dtype: int32\n"
     ]
    },
    {
     "data": {
      "text/plain": [
       "0    1\n",
       "1    2\n",
       "5    6\n",
       "6    7\n",
       "dtype: int32"
      ]
     },
     "execution_count": 77,
     "metadata": {},
     "output_type": "execute_result"
    }
   ],
   "source": [
    "#Q7. get the items not common to both series A and series B?\n",
    "\n",
    "ser1=pd.Series(np.arange(1,6))\n",
    "print(ser1)\n",
    "ser2=pd.Series(np.arange(3,8))\n",
    "print(ser2)\n",
    "\n",
    "\n",
    "ser_u = pd.Series(np.union1d(ser1, ser2))  # union\n",
    "ser_u\n",
    "ser_i = pd.Series(np.intersect1d(ser1, ser2))  # intersect\n",
    "ser_i\n",
    "ser_u[~ser_u.isin(ser_i)]   #union-intersect"
   ]
  },
  {
   "cell_type": "code",
   "execution_count": 105,
   "metadata": {},
   "outputs": [
    {
     "name": "stdout",
     "output_type": "stream",
     "text": [
      "0   -0.188599\n",
      "1   -0.903650\n",
      "2   -1.197730\n",
      "3   -0.882125\n",
      "4    0.668713\n",
      "5   -0.018612\n",
      "6    1.566156\n",
      "7    1.036887\n",
      "8    0.169351\n",
      "9   -0.325246\n",
      "dtype: float64\n"
     ]
    },
    {
     "data": {
      "text/plain": [
       "array([-1.19772962, -0.7429054 , -0.10360568,  0.54387218,  1.56615583])"
      ]
     },
     "execution_count": 105,
     "metadata": {},
     "output_type": "execute_result"
    }
   ],
   "source": [
    "#Q8. to get the minimum, 25th percentile, median, 75th, and max of a numeric series?\n",
    "\n",
    "ser=pd.Series(np.random.randn(10))\n",
    "print(ser)\n",
    "np.percentile(ser, q=[0,25,50,75,100])\n",
    "\n"
   ]
  },
  {
   "cell_type": "code",
   "execution_count": 127,
   "metadata": {},
   "outputs": [
    {
     "data": {
      "text/plain": [
       "d    2\n",
       "c    2\n",
       "f    1\n",
       "b    1\n",
       "e    1\n",
       "a    1\n",
       "dtype: int64"
      ]
     },
     "execution_count": 127,
     "metadata": {},
     "output_type": "execute_result"
    }
   ],
   "source": [
    "#Q9.get frequency counts of unique items of a series?\n",
    "\n",
    "ser1=pd.Series(list('abcd'))\n",
    "ser2=pd.Series(list('cdef'))\n",
    "ser3=pd.concat([ser1,ser2], axis=0)\n",
    "ser3.value_counts()"
   ]
  },
  {
   "cell_type": "code",
   "execution_count": 161,
   "metadata": {},
   "outputs": [
    {
     "name": "stdout",
     "output_type": "stream",
     "text": [
      "4    3\n",
      "8    2\n",
      "6    2\n",
      "5    1\n",
      "3    1\n",
      "1    1\n",
      "dtype: int64\n",
      "0    Other\n",
      "1    Other\n",
      "2        4\n",
      "3        4\n",
      "4        8\n",
      "5        4\n",
      "6    Other\n",
      "7    Other\n",
      "8    Other\n",
      "9        8\n",
      "dtype: object\n"
     ]
    }
   ],
   "source": [
    "#Q10 keep only top 2 most frequent values as it is and replace everything else as ‘Other’?\n",
    "np.random.seed(0)\n",
    "ser = pd.Series(np.random.randint(1, 10, 10))\n",
    "print(ser.value_counts())\n",
    "\n",
    "# Solution\n",
    "\n",
    "ser[~ser.isin(ser.value_counts().index[:2])] = 'Other'\n",
    "print(ser)"
   ]
  },
  {
   "cell_type": "code",
   "execution_count": null,
   "metadata": {},
   "outputs": [],
   "source": []
  },
  {
   "cell_type": "code",
   "execution_count": null,
   "metadata": {},
   "outputs": [],
   "source": []
  },
  {
   "cell_type": "code",
   "execution_count": null,
   "metadata": {},
   "outputs": [],
   "source": []
  },
  {
   "cell_type": "code",
   "execution_count": null,
   "metadata": {},
   "outputs": [],
   "source": []
  },
  {
   "cell_type": "code",
   "execution_count": null,
   "metadata": {},
   "outputs": [],
   "source": []
  }
 ],
 "metadata": {
  "kernelspec": {
   "display_name": "Python 3",
   "language": "python",
   "name": "python3"
  },
  "language_info": {
   "codemirror_mode": {
    "name": "ipython",
    "version": 3
   },
   "file_extension": ".py",
   "mimetype": "text/x-python",
   "name": "python",
   "nbconvert_exporter": "python",
   "pygments_lexer": "ipython3",
   "version": "3.7.6"
  }
 },
 "nbformat": 4,
 "nbformat_minor": 4
}
