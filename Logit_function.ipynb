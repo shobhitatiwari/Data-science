{
  "nbformat": 4,
  "nbformat_minor": 0,
  "metadata": {
    "colab": {
      "name": "Logit function.ipynb",
      "provenance": [],
      "collapsed_sections": [],
      "authorship_tag": "ABX9TyOzKdzN8++0yPjge14iR4HI",
      "include_colab_link": true
    },
    "kernelspec": {
      "name": "python3",
      "display_name": "Python 3"
    }
  },
  "cells": [
    {
      "cell_type": "markdown",
      "metadata": {
        "id": "view-in-github",
        "colab_type": "text"
      },
      "source": [
        "<a href=\"https://colab.research.google.com/github/shobhitatiwari/Data-science/blob/master/Logit_function.ipynb\" target=\"_parent\"><img src=\"https://colab.research.google.com/assets/colab-badge.svg\" alt=\"Open In Colab\"/></a>"
      ]
    },
    {
      "cell_type": "markdown",
      "metadata": {
        "id": "JALC4EhhHy5K"
      },
      "source": [
        "Logit function is defined as\n",
        "**f(x)= 1/(1+ e^(-x))**\n"
      ]
    },
    {
      "cell_type": "code",
      "metadata": {
        "id": "7OP9xMrWCjgP"
      },
      "source": [
        "#plot logistic fnctn\n",
        "import numpy as np\n",
        "import matplotlib.pyplot as plt\n",
        "import pandas as pd\n",
        "\n",
        "%matplotlib inline"
      ],
      "execution_count": 7,
      "outputs": []
    },
    {
      "cell_type": "code",
      "metadata": {
        "id": "L_jNrzZGC0Pv"
      },
      "source": [
        "def logit_function(input_value):\n",
        "  return 1/(1+np.exp(-input_value))"
      ],
      "execution_count": 16,
      "outputs": []
    },
    {
      "cell_type": "code",
      "metadata": {
        "id": "l7LKJ0dLC0ld",
        "outputId": "c965d8ad-ce26-4ecc-a7dc-5923f8bcdad9",
        "colab": {
          "base_uri": "https://localhost:8080/",
          "height": 544
        }
      },
      "source": [
        "x=[]\n",
        "\n",
        "for value in range(-15,16,1):\n",
        "  print(value)\n",
        "  x.append(value)"
      ],
      "execution_count": 20,
      "outputs": [
        {
          "output_type": "stream",
          "text": [
            "-15\n",
            "-14\n",
            "-13\n",
            "-12\n",
            "-11\n",
            "-10\n",
            "-9\n",
            "-8\n",
            "-7\n",
            "-6\n",
            "-5\n",
            "-4\n",
            "-3\n",
            "-2\n",
            "-1\n",
            "0\n",
            "1\n",
            "2\n",
            "3\n",
            "4\n",
            "5\n",
            "6\n",
            "7\n",
            "8\n",
            "9\n",
            "10\n",
            "11\n",
            "12\n",
            "13\n",
            "14\n",
            "15\n"
          ],
          "name": "stdout"
        }
      ]
    },
    {
      "cell_type": "code",
      "metadata": {
        "id": "J4CcC90PC0MK",
        "outputId": "ca8fb04f-9e4c-415b-a943-1691131d4261",
        "colab": {
          "base_uri": "https://localhost:8080/",
          "height": 34
        }
      },
      "source": [
        "print(x)"
      ],
      "execution_count": 21,
      "outputs": [
        {
          "output_type": "stream",
          "text": [
            "[-15, -14, -13, -12, -11, -10, -9, -8, -7, -6, -5, -4, -3, -2, -1, 0, 1, 2, 3, 4, 5, 6, 7, 8, 9, 10, 11, 12, 13, 14, 15]\n"
          ],
          "name": "stdout"
        }
      ]
    },
    {
      "cell_type": "code",
      "metadata": {
        "id": "UjMMtBHLD0w0",
        "outputId": "24588ce2-ce21-42d9-d657-6b0e3335b8d5",
        "colab": {
          "base_uri": "https://localhost:8080/",
          "height": 544
        }
      },
      "source": [
        "y=[]\n",
        "\n",
        "for value in x:\n",
        "  temp=logit_function(value)\n",
        "  y.append(temp)\n",
        "y"
      ],
      "execution_count": 22,
      "outputs": [
        {
          "output_type": "execute_result",
          "data": {
            "text/plain": [
              "[3.059022269256247e-07,\n",
              " 8.315280276641321e-07,\n",
              " 2.2603242979035746e-06,\n",
              " 6.144174602214718e-06,\n",
              " 1.670142184809518e-05,\n",
              " 4.5397868702434395e-05,\n",
              " 0.00012339457598623172,\n",
              " 0.0003353501304664781,\n",
              " 0.0009110511944006454,\n",
              " 0.0024726231566347743,\n",
              " 0.0066928509242848554,\n",
              " 0.01798620996209156,\n",
              " 0.04742587317756678,\n",
              " 0.11920292202211755,\n",
              " 0.2689414213699951,\n",
              " 0.5,\n",
              " 0.7310585786300049,\n",
              " 0.8807970779778823,\n",
              " 0.9525741268224334,\n",
              " 0.9820137900379085,\n",
              " 0.9933071490757153,\n",
              " 0.9975273768433653,\n",
              " 0.9990889488055994,\n",
              " 0.9996646498695336,\n",
              " 0.9998766054240137,\n",
              " 0.9999546021312976,\n",
              " 0.999983298578152,\n",
              " 0.9999938558253978,\n",
              " 0.999997739675702,\n",
              " 0.9999991684719722,\n",
              " 0.999999694097773]"
            ]
          },
          "metadata": {
            "tags": []
          },
          "execution_count": 22
        }
      ]
    },
    {
      "cell_type": "code",
      "metadata": {
        "id": "c4SytxO2D1Ml",
        "outputId": "6f85bf16-90df-4161-d454-b29b8f3bdc3d",
        "colab": {
          "base_uri": "https://localhost:8080/",
          "height": 282
        }
      },
      "source": [
        "plt.scatter(x, y)"
      ],
      "execution_count": 23,
      "outputs": [
        {
          "output_type": "execute_result",
          "data": {
            "text/plain": [
              "<matplotlib.collections.PathCollection at 0x7f7302f71a20>"
            ]
          },
          "metadata": {
            "tags": []
          },
          "execution_count": 23
        },
        {
          "output_type": "display_data",
          "data": {
            "image/png": "[encoded data removed]",
            "text/plain": [
              "<Figure size 432x288 with 1 Axes>"
            ]
          },
          "metadata": {
            "tags": [],
            "needs_background": "light"
          }
        }
      ]
    },
    {
      "cell_type": "code",
      "metadata": {
        "id": "6S6qSeSwD1Y-"
      },
      "source": [
        ""
      ],
      "execution_count": null,
      "outputs": []
    }
  ]
}